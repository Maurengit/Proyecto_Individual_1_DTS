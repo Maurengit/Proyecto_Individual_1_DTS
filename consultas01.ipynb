{
 "cells": [
  {
   "cell_type": "code",
   "execution_count": 60,
   "metadata": {},
   "outputs": [],
   "source": [
    "from fastapi import FastAPI \n",
    "import pandas as pd\n",
    "\n",
    "app = FastAPI()"
   ]
  },
  {
   "cell_type": "code",
   "execution_count": 61,
   "metadata": {},
   "outputs": [],
   "source": [
    "import pandas as pd"
   ]
  },
  {
   "cell_type": "code",
   "execution_count": 62,
   "metadata": {},
   "outputs": [],
   "source": [
    "test = pd.read_csv('consultas.csv')"
   ]
  },
  {
   "attachments": {},
   "cell_type": "markdown",
   "metadata": {},
   "source": [
    "* Consulta 1\n",
    "Película con mayor duración con filtros opcionales de AÑO, PLATAFORMA Y TIPO DE DURACIÓN. \n",
    "(la función debe llamarse get_max_duration(year, platform, duration_type))"
   ]
  },
  {
   "cell_type": "code",
   "execution_count": 63,
   "metadata": {},
   "outputs": [],
   "source": [
    "#Consulta 1\n",
    "def get_max_duration(platform, duration_type, year):\n",
    "    if platform == \"netflix\":\n",
    "            df_durat = test[(test[\"type\"] == \"movie\") & (test[\"release_year\"] == year) & (test[\"duration_type\"] == duration_type) & (test[\"id\"].str.findall(\"n\"))] # Se hace el filtro con las 3 condiciones por plataf\n",
    "    elif platform == \"disney\":\n",
    "            df_durat = test[(test[\"type\"] == \"movie\") & (test[\"release_year\"] == year) & (test[\"duration_type\"] == duration_type) & (test[\"id\"].str.findall(\"d\"))]\n",
    "    elif platform == \"hulu\":\n",
    "            df_durat = test[(test[\"type\"] == \"movie\") & (test[\"release_year\"] == year) & (test[\"duration_type\"] == duration_type) & (test[\"id\"].str.findall(\"h\"))]\n",
    "    elif platform == \"amazon\":\n",
    "            df_durat = test[(test[\"type\"] == \"movie\") & (test[\"release_year\"] == year) & (test[\"duration_type\"] == duration_type) & (test[\"id\"].str.findall(\"a\"))]\n",
    "    else:\n",
    "            return \"Lo siento, sólo tengo informacion sobre netflix, disney, hulu y amazon\"\n",
    "    \n",
    "    result = df_durat[df_durat[\"duration_int\"] == (df_durat[\"duration_int\"].max())] # se evalúa el valor más alto\n",
    "    return f'La Película de {platform} con mayor duración en {duration_type} del año {year} es: {result.iloc[0,1]}' # accedemos al valor específico, título de la peli"
   ]
  },
  {
   "cell_type": "code",
   "execution_count": 64,
   "metadata": {},
   "outputs": [],
   "source": [
    "probando = get_max_duration(\"hulu\",\"min\", 2019)"
   ]
  },
  {
   "cell_type": "code",
   "execution_count": 65,
   "metadata": {},
   "outputs": [
    {
     "name": "stdout",
     "output_type": "stream",
     "text": [
      "La Película de hulu con mayor duración en min del año 2019 es: the traitor\n"
     ]
    }
   ],
   "source": [
    "print(probando)"
   ]
  },
  {
   "attachments": {},
   "cell_type": "markdown",
   "metadata": {},
   "source": [
    "#Consulta 2\n",
    "Cantidad de películas por plataforma con un puntaje mayor a XX en determinado año \n",
    "(la función debe llamarse get_score_count(platform, scored, year))"
   ]
  },
  {
   "cell_type": "code",
   "execution_count": 72,
   "metadata": {},
   "outputs": [],
   "source": [
    "# Consulta 2\n",
    "def get_score_count1(platform, scored, year):\n",
    "    df5 = test[(test[\"califPromedio\"] > scored ) & (test[\"release_year\"] == year)]  #Filtro de busqueda por Score y Año\n",
    "    if platform == \"netflix\":\n",
    "        df_gsc = df5[(df5[\"type\"] == \"movie\") & (df5[\"id\"].str.findall(\"n\"))]                #Genero un DF general con filtros especificos segun busqueda\n",
    "    elif platform == \"amazon\":\n",
    "        df_gsc = df5[(df5[\"type\"] == \"movie\") & (df5[\"id\"].str.findall(\"a\"))]\n",
    "    elif platform == \"hulu\":\n",
    "        df_gsc = df5[(df5[\"type\"] == \"movie\") & (df5[\"id\"].str.findall(\"h\"))]\n",
    "    elif platform == \"disney\":\n",
    "        df_gsc = df5[(df5[\"type\"] == \"movie\") & (df5[\"id\"].str.findall(\"d\"))]\n",
    "    else:\n",
    "        return \"Revisa tu búsqueda, algo no está funcionando\"\n",
    "\n",
    "    return f'La cantidad de peliculas de {platform} del año {year} con puntaje {scored} es de: {df_gsc.shape[0]}'"
   ]
  },
  {
   "cell_type": "code",
   "execution_count": 73,
   "metadata": {},
   "outputs": [],
   "source": [
    "Probando1 = get_score_count1('netflix', 3, 2019)"
   ]
  },
  {
   "cell_type": "code",
   "execution_count": 74,
   "metadata": {},
   "outputs": [
    {
     "name": "stdout",
     "output_type": "stream",
     "text": [
      "Peliculas de netflix del año 2019 con puntaje 3: 633\n"
     ]
    }
   ],
   "source": [
    "print(Probando1)"
   ]
  },
  {
   "attachments": {},
   "cell_type": "markdown",
   "metadata": {},
   "source": [
    "#Consulta 3\n",
    "Cantidad de películas por plataforma con filtro de PLATAFORMA. \n",
    "(La función debe llamarse get_count_platform(platform))"
   ]
  },
  {
   "cell_type": "code",
   "execution_count": 55,
   "metadata": {},
   "outputs": [],
   "source": [
    "# Consulta 3\n",
    "def get_count_platform(platform):\n",
    "    if platform == \"amazon\":\n",
    "        df_encontrado = test[test['id'].str.contains(\"a\")] #Encuentra concidencia de la letra a en el df test columna id y lo guarda en df_encontrado\n",
    "    elif platform == \"disney\":\n",
    "        df_encontrado = test[test['id'].str.contains(\"d\")]\n",
    "    elif platform == \"hulu\":\n",
    "        df_encontrado = test[test['id'].str.contains(\"h\")]\n",
    "    elif platform == \"netflix\":\n",
    "        df_encontrado = test[test['id'].str.contains(\"n\")]\n",
    "    else:\n",
    "        return 'Esa plataforma no la conozco, sólo tengo informacion sobre netflix, disney, hulu y amazon'\n",
    "    \n",
    "    result = df_encontrado['id'].count() #Cuenta los valores accediedo accediendo al primer elemento de la serie, que es el número de filas que cumplen con la condición\n",
    "\n",
    "    return f'La cantidad de películas que hay en {platform} es: {result}'"
   ]
  },
  {
   "cell_type": "code",
   "execution_count": 58,
   "metadata": {},
   "outputs": [],
   "source": [
    "probando2 = get_count_platform('amazon')"
   ]
  },
  {
   "cell_type": "code",
   "execution_count": 59,
   "metadata": {},
   "outputs": [
    {
     "name": "stdout",
     "output_type": "stream",
     "text": [
      "La cantidad de películas que hay en amazon es: 9668\n"
     ]
    }
   ],
   "source": [
    "print(probando2)"
   ]
  },
  {
   "attachments": {},
   "cell_type": "markdown",
   "metadata": {},
   "source": [
    "#Consulta 4\n",
    "Actor que más se repite según plataforma y año. \n",
    "(La función debe llamarse get_actor(platform, year))"
   ]
  },
  {
   "cell_type": "code",
   "execution_count": 39,
   "metadata": {},
   "outputs": [],
   "source": [
    "def get_actor(platform, year):\n",
    "\n",
    "    if platform == \"netflix\":\n",
    "            df_actor = test[(test[\"release_year\"] == year) & (test[\"id\"].str.contains(\"n\"))] # Se hace el filtro con las 2 condiciones por plataf\n",
    "    elif platform == \"disney\":\n",
    "            df_actor = test[(test[\"release_year\"] == year) & (test[\"id\"].str.contains(\"d\"))]\n",
    "    elif platform == \"hulu\":\n",
    "            df_actor = test[(test[\"release_year\"] == year) & (test[\"id\"].str.contains(\"h\"))]\n",
    "    elif platform == \"amazon\":\n",
    "            df_actor = test[(test[\"release_year\"] == year) & (test[\"id\"].str.contains(\"a\"))]\n",
    "    else:\n",
    "            return \"Lo siento, sólo tengo informacion sobre netflix, disney, hulu y amazon\"\n",
    "\n",
    "    actores = str(df_actor['cast'])\n",
    "    actores = actores.split(', ') #se separan los valores\n",
    "    name_dict = {}\n",
    "    for name in actores:\n",
    "        if name in name_dict:\n",
    "                name_dict[name] += 1\n",
    "        else:\n",
    "                name_dict[name] = 1\n",
    "    result = max(name_dict, key=name_dict.get)\n",
    "\n",
    "\n",
    "    return f'El actor que más de repite en result en el año {year} de la plataforma {platform} es:{result}'"
   ]
  },
  {
   "cell_type": "code",
   "execution_count": 44,
   "metadata": {},
   "outputs": [],
   "source": [
    "probando3 = get_actor(\"disney\", 2018)"
   ]
  },
  {
   "cell_type": "code",
   "execution_count": 45,
   "metadata": {},
   "outputs": [
    {
     "name": "stdout",
     "output_type": "stream",
     "text": [
      "El actor que más de repite en result en el año 2018 de la plataforma disney es:9685     mia jenness\n"
     ]
    }
   ],
   "source": [
    "print(probando3)"
   ]
  }
 ],
 "metadata": {
  "kernelspec": {
   "display_name": "Bootcamp",
   "language": "python",
   "name": "python3"
  },
  "language_info": {
   "codemirror_mode": {
    "name": "ipython",
    "version": 3
   },
   "file_extension": ".py",
   "mimetype": "text/x-python",
   "name": "python",
   "nbconvert_exporter": "python",
   "pygments_lexer": "ipython3",
   "version": "3.9.16"
  },
  "orig_nbformat": 4,
  "vscode": {
   "interpreter": {
    "hash": "90bc16d2446d5ed5188fd8e8125c71a7a7194c8fd566a2384aa4b6df7cdd4cf0"
   }
  }
 },
 "nbformat": 4,
 "nbformat_minor": 2
}
