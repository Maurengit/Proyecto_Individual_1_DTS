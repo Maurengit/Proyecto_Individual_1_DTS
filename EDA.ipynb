{
 "cells": [
  {
   "attachments": {},
   "cell_type": "markdown",
   "metadata": {},
   "source": [
    "Para hacer el EDA(analisis exploratorio de datos) debido a la dimención del archivo, csv se tiene que convertir en un archivo parquet es un archivo optimizado y es mas eficaz siendo binario, esto nos ayuda a optimizar las consultas."
   ]
  },
  {
   "cell_type": "code",
   "execution_count": 23,
   "metadata": {},
   "outputs": [],
   "source": [
    "import dataprep\n",
    "from dataprep.eda import *\n",
    "#import dataprep.eda as dp\n",
    "from dataprep.datasets import load_dataset\n",
    "from dataprep.eda import create_report\n",
    "import pandas as pd\n",
    "import pyarrow as pa # Nos ayuda a convertir a parquet\n",
    "import pyarrow.parquet as pq"
   ]
  },
  {
   "cell_type": "code",
   "execution_count": null,
   "metadata": {},
   "outputs": [],
   "source": [
    "# Lee el archivo CSV con pandas\n",
    "df = pd.read_csv('completo.csv')"
   ]
  },
  {
   "cell_type": "code",
   "execution_count": 7,
   "metadata": {},
   "outputs": [],
   "source": [
    "# Crea una tabla de pyarrow a partir del dataframe de pandas\n",
    "table = pa.Table.from_pandas(df)"
   ]
  },
  {
   "cell_type": "code",
   "execution_count": 19,
   "metadata": {},
   "outputs": [],
   "source": [
    "# Escribe la tabla en formato Parquet\n",
    "pq.write_table(table, 'completo.parquet')"
   ]
  },
  {
   "attachments": {},
   "cell_type": "markdown",
   "metadata": {},
   "source": [
    "EDA, se utilizó la libreria dataprep para el Anális Exploratorio de Datos"
   ]
  },
  {
   "cell_type": "code",
   "execution_count": 26,
   "metadata": {},
   "outputs": [],
   "source": [
    "# Cargar el archivo parquet en un DataFrame\n",
    "df_eda = pd.read_parquet('completo.parquet')\n"
   ]
  },
  {
   "cell_type": "code",
   "execution_count": null,
   "metadata": {},
   "outputs": [],
   "source": [
    "#Genera un reporte exploratorio de datos\n",
    "report_eda = create_report(df_eda)"
   ]
  },
  {
   "cell_type": "code",
   "execution_count": 28,
   "metadata": {},
   "outputs": [],
   "source": [
    "# Muestra el reporte generado en el navegador\n",
    "report_eda.show_browser()"
   ]
  },
  {
   "cell_type": "code",
   "execution_count": 29,
   "metadata": {},
   "outputs": [
    {
     "name": "stdout",
     "output_type": "stream",
     "text": [
      "Report has been saved to reporte_eda.html!\n"
     ]
    }
   ],
   "source": [
    "# Guardar el reporte en formato HTML\n",
    "report_eda.save(\"reporte_eda.html\")"
   ]
  }
 ],
 "metadata": {
  "kernelspec": {
   "display_name": "Bootcamp",
   "language": "python",
   "name": "python3"
  },
  "language_info": {
   "codemirror_mode": {
    "name": "ipython",
    "version": 3
   },
   "file_extension": ".py",
   "mimetype": "text/x-python",
   "name": "python",
   "nbconvert_exporter": "python",
   "pygments_lexer": "ipython3",
   "version": "3.9.16"
  },
  "orig_nbformat": 4,
  "vscode": {
   "interpreter": {
    "hash": "90bc16d2446d5ed5188fd8e8125c71a7a7194c8fd566a2384aa4b6df7cdd4cf0"
   }
  }
 },
 "nbformat": 4,
 "nbformat_minor": 2
}
